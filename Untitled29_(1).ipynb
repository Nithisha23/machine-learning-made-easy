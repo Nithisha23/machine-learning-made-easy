{
  "nbformat": 4,
  "nbformat_minor": 0,
  "metadata": {
    "colab": {
      "name": "Untitled29 (1).ipynb",
      "provenance": [],
      "collapsed_sections": [],
      "include_colab_link": true
    },
    "kernelspec": {
      "name": "python3",
      "display_name": "Python 3"
    }
  },
  "cells": [
    {
      "cell_type": "markdown",
      "metadata": {
        "id": "view-in-github",
        "colab_type": "text"
      },
      "source": [
        "<a href=\"https://colab.research.google.com/github/Nithisha23/machine-learning-made-easy/blob/master/Untitled29_(1).ipynb\" target=\"_parent\"><img src=\"https://colab.research.google.com/assets/colab-badge.svg\" alt=\"Open In Colab\"/></a>"
      ]
    },
    {
      "cell_type": "code",
      "metadata": {
        "id": "wdHSvf_rZg2Q"
      },
      "source": [
        "import numpy as np\n",
        "import matplotlib.pyplot as plt"
      ],
      "execution_count": 631,
      "outputs": []
    },
    {
      "cell_type": "code",
      "metadata": {
        "id": "F4tjiLNLaIOx"
      },
      "source": [
        "train = np.loadtxt(\"train.csv\", delimiter=',')\n",
        "test = np.loadtxt(\"test.csv\", delimiter=',')\n",
        "x = train[:,0:2]\n",
        "y = train[:,2]\n",
        "x_test = test[:,0:2]\n",
        "y_test = test[:,2]"
      ],
      "execution_count": 632,
      "outputs": []
    },
    {
      "cell_type": "code",
      "metadata": {
        "id": "6rPZcbGFbWpY"
      },
      "source": [
        "#sigmoid\n",
        "def sigmoid(inp):\n",
        "  return 1/(1+np.exp(-inp))\n",
        "#Relu\n",
        "def relu(input):\n",
        "  return max(0,input)\n",
        "#tanh\n",
        "def tanh(inpt):\n",
        "  return np.tanh(inpt)\n",
        "\n",
        "#linear\n",
        "def linear(x):\n",
        "  return x"
      ],
      "execution_count": 633,
      "outputs": []
    },
    {
      "cell_type": "code",
      "metadata": {
        "id": "j-MaksqObXtr"
      },
      "source": [
        "w1 = np.random.rand(3,2)\n",
        "b1 = np.random.rand(3,1)\n",
        "w2 = np.random.rand(1,3)\n",
        "b2 = np.random.rand(1,1)\n"
      ],
      "execution_count": 634,
      "outputs": []
    },
    {
      "cell_type": "code",
      "metadata": {
        "id": "EZ2jvOR2b3fI",
        "outputId": "f7536dbc-0f84-41db-8450-c21402d9aed8",
        "colab": {
          "base_uri": "https://localhost:8080/",
          "height": 306
        }
      },
      "source": [
        "z1 = np.dot(w1 , x.T) + b1\n",
        "a1 = sigmoid(z1)\n",
        "z2 = np.dot(w2 , a1) + b2\n",
        "a2 = sigmoid(z2)\n",
        "print(a2)"
      ],
      "execution_count": 635,
      "outputs": [
        {
          "output_type": "stream",
          "text": [
            "[[0.56273371 0.56326308 0.61068867 0.60987623 0.55429083 0.58477311\n",
            "  0.55029263 0.59940911 0.56005055 0.58924967 0.56856656 0.56568454\n",
            "  0.56799773 0.60398381 0.55693017 0.60164658 0.54815368 0.60822049\n",
            "  0.60250225 0.58071927 0.59554482 0.54508305 0.60031149 0.59564544\n",
            "  0.55893661 0.56521034 0.61109788 0.55830091 0.58839807 0.55786496\n",
            "  0.55978401 0.56601323 0.55528033 0.59239569 0.60634205 0.56852131\n",
            "  0.60191628 0.54779715 0.55318753 0.59911055 0.57721848 0.56711938\n",
            "  0.58751303 0.55770458 0.60255517 0.60488893 0.56358716 0.59772439\n",
            "  0.58307084 0.5878213  0.56810386 0.56722891 0.59251677 0.59955568\n",
            "  0.60241053 0.59670588 0.60011555 0.59814977 0.55420031 0.60541415\n",
            "  0.56612085 0.58948204 0.6032924  0.6022736  0.61278157 0.55973782\n",
            "  0.55882389 0.60312402 0.57265234 0.59640697 0.55054903 0.59872407\n",
            "  0.56509117 0.55878821 0.58275516 0.59395522 0.60407998 0.60558883\n",
            "  0.60489477 0.54742214 0.59959984 0.61747433 0.61682477 0.59510793\n",
            "  0.5637856  0.55028723 0.60764978 0.57297021 0.59937527 0.60426264\n",
            "  0.57304938 0.60005212 0.5642362  0.56882732 0.61064026 0.60541335\n",
            "  0.6018102  0.55964453 0.57819152 0.54798447]]\n"
          ],
          "name": "stdout"
        }
      ]
    },
    {
      "cell_type": "code",
      "metadata": {
        "id": "hlcYQKbyiCki"
      },
      "source": [
        "def backprop(w1,w2,b1,b2):\n",
        "  alpha = 0.001\n",
        "  iteration = []\n",
        "  y_test_25 = []\n",
        "  y_pred_25 = []\n",
        "  accuracy_25 = []\n",
        "  ytest_logloss_25 = []\n",
        "  for i in range(25):\n",
        "    dz2 = a2 - y\n",
        "    inter1 = np.reshape(np.mean(dz2, axis = 1),(1,1))\n",
        "    dw2 = np.dot(dz2, a1.T)\n",
        "    db2 = inter1\n",
        "    dz1 = np.dot(w2.T, dz2) * (sigmoid(z1)) * (1 - sigmoid(z1))\n",
        "    inter2 = np.reshape(np.mean(dz1, axis = 1),(3,1))\n",
        "    dw1 = np.dot(dz1, x)\n",
        "    db1 = inter2\n",
        "    w1 = w1 - alpha * dw1\n",
        "    b1 = b1 - alpha * db1\n",
        "    w2 = w2 - alpha * dw2\n",
        "    b2 = b2 - alpha * db2\n",
        "    newz1 = np.dot(w1 , x.T) + b1\n",
        "    newa1 = sigmoid(newz1)\n",
        "    newz2 = np.dot(w2 , newa1) + b2\n",
        "    newa2 = sigmoid(newz2)\n",
        "    z1_test = np.dot(w1 , x_test.T) + b1\n",
        "    a1_test = sigmoid(z1_test)\n",
        "    z2_test = np.dot(w2 , a1_test) + b2\n",
        "    a2_test = sigmoid(z2_test).flatten()\n",
        "    y_test_25.append(a2_test)\n",
        "    ytest_logloss_25.append(-1 / 50 * (np.dot(y_test, np.log(a2_test).T) + np.dot(1 - y_test, np.log(1 - a2_test).T)))\n",
        "    iteration.append(i+1)\n",
        "    ypred = []\n",
        "    for i in a2_test:\n",
        "      if i >= 0.60:\n",
        "        i = 1\n",
        "      else:\n",
        "        i = 0\n",
        "      ypred.append(i)\n",
        "    y_pred_25.append(ypred)\n",
        "    true_count = 0\n",
        "    false_count = 0\n",
        "    for i in range(50):\n",
        "      if (ypred[i] == 1) & (y_test[i] == 1):\n",
        "        true_count = true_count +1\n",
        "      elif (ypred[i] == 0) & (y_test[i] == 0):\n",
        "        true_count = true_count +1\n",
        "      else:\n",
        "        false_count = false_count +1\n",
        "    accuracy = (true_count/(true_count+false_count))*100\n",
        "    accuracy_25.append(accuracy)\n",
        "  return dict([(\"w1\", w1),(\"w2\", w2),(\"b1\", b1),(\"b2\", b2),(\"y_test_25\", y_test_25),(\"y_pred_25\", y_pred_25),(\"ytest_logloss_25\",ytest_logloss_25),(\"iteration\",iteration),(\"accuracy_25\",accuracy_25)])"
      ],
      "execution_count": 650,
      "outputs": []
    },
    {
      "cell_type": "code",
      "metadata": {
        "id": "5AEMMCYH_K0I"
      },
      "source": [
        "w_b = backprop(w1,w2,b1,b2)\n",
        "print(w_b)"
      ],
      "execution_count": null,
      "outputs": []
    },
    {
      "cell_type": "code",
      "metadata": {
        "id": "PzGypjLs9hAR",
        "outputId": "1b2b194c-af81-4e35-924e-bf5a9180247c",
        "colab": {
          "base_uri": "https://localhost:8080/",
          "height": 170
        }
      },
      "source": [
        "y_predicted = w_b[\"y_test_25\"][24]\n",
        "print(y_predicted)"
      ],
      "execution_count": 652,
      "outputs": [
        {
          "output_type": "stream",
          "text": [
            "[0.55741998 0.62140119 0.55753581 0.62863646 0.54743563 0.56262943\n",
            " 0.6095406  0.54850728 0.62028841 0.56254017 0.63175824 0.57939225\n",
            " 0.55078413 0.59725019 0.61727449 0.59612377 0.62422655 0.59476272\n",
            " 0.58772823 0.62291821 0.5548563  0.55898193 0.63204415 0.63378292\n",
            " 0.55670779 0.63186595 0.61746148 0.56952671 0.61692737 0.62070749\n",
            " 0.56542195 0.60685781 0.61689263 0.59459019 0.62000198 0.56710097\n",
            " 0.5875727  0.6275988  0.574499   0.61796998 0.57189339 0.61827135\n",
            " 0.61877671 0.62105038 0.624357   0.57420032 0.61071556 0.61407025\n",
            " 0.58560858 0.57279167]\n"
          ],
          "name": "stdout"
        }
      ]
    },
    {
      "cell_type": "markdown",
      "metadata": {
        "id": "X88Jy09PAfgw"
      },
      "source": [
        "**Question 1**"
      ]
    },
    {
      "cell_type": "markdown",
      "metadata": {
        "id": "hTBTQ1jWHKXj"
      },
      "source": [
        "**Calculated loss and accuracy for the test data**"
      ]
    },
    {
      "cell_type": "markdown",
      "metadata": {
        "id": "v8vHKQwdAizv"
      },
      "source": [
        "**log loss for the test data** "
      ]
    },
    {
      "cell_type": "code",
      "metadata": {
        "id": "_WIIkD0p9iym",
        "outputId": "c20f3ea4-7369-4d27-d1bf-e5a2a93eeb01",
        "colab": {
          "base_uri": "https://localhost:8080/",
          "height": 34
        }
      },
      "source": [
        "Avg_log_loss_test = w_b[\"ytest_logloss_25\"][24]\n",
        "print(\"Average log loss of the test data\", str(Avg_log_loss_test))"
      ],
      "execution_count": 653,
      "outputs": [
        {
          "output_type": "stream",
          "text": [
            "Average log loss of the test data 0.6416065934448753\n"
          ],
          "name": "stdout"
        }
      ]
    },
    {
      "cell_type": "markdown",
      "metadata": {
        "id": "FhWxCYBzA6qI"
      },
      "source": [
        "**For accuracy calculations I am taking the cutt off as 0.65** "
      ]
    },
    {
      "cell_type": "code",
      "metadata": {
        "id": "1QaM70mdA4EP",
        "outputId": "b56dc72b-4198-4758-89b3-d35248676f6d",
        "colab": {
          "base_uri": "https://localhost:8080/",
          "height": 34
        }
      },
      "source": [
        "Accuracy_test = w_b[\"accuracy_25\"][24]\n",
        "print(\"Accuracy of the test data\", str(Accuracy_test)+\"%\")"
      ],
      "execution_count": 654,
      "outputs": [
        {
          "output_type": "stream",
          "text": [
            "Accuracy of the test data 94.0%\n"
          ],
          "name": "stdout"
        }
      ]
    },
    {
      "cell_type": "markdown",
      "metadata": {
        "id": "Z4Fm_eCqCd3N"
      },
      "source": [
        "**Question 2**"
      ]
    },
    {
      "cell_type": "markdown",
      "metadata": {
        "id": "V0vN8FhTHPay"
      },
      "source": [
        "**Ploting the loss and accuracy as a function of number of iterations on the test data**"
      ]
    },
    {
      "cell_type": "markdown",
      "metadata": {
        "id": "hnq2Wk_zQ1yg"
      },
      "source": [
        "**Loss log vs iterations**"
      ]
    },
    {
      "cell_type": "code",
      "metadata": {
        "id": "75YXmmY0CdSl",
        "outputId": "255a011c-7f70-42a1-ae25-30c7e375e2c7",
        "colab": {
          "base_uri": "https://localhost:8080/",
          "height": 295
        }
      },
      "source": [
        "ytestlogloss_25 = w_b[\"ytest_logloss_25\"]\n",
        "iter = w_b[\"iteration\"]\n",
        "plt.ylabel(\"Loss\")\n",
        "plt.xlabel(\"Iteration\")\n",
        "plt.title(\"Loss vs Iteration\")\n",
        "plt.plot(iter, ytestlogloss_25, 'mo',linestyle='solid')\n",
        "plt.show()"
      ],
      "execution_count": 655,
      "outputs": [
        {
          "output_type": "display_data",
          "data": {
            "image/png": "[encoded data removed]",
            "text/plain": [
              "<Figure size 432x288 with 1 Axes>"
            ]
          },
          "metadata": {
            "tags": [],
            "needs_background": "light"
          }
        }
      ]
    },
    {
      "cell_type": "markdown",
      "metadata": {
        "id": "NIYN40XdQ5ah"
      },
      "source": [
        "**Accuracy vs iterations**"
      ]
    },
    {
      "cell_type": "code",
      "metadata": {
        "id": "ITvo0rBAOvel",
        "outputId": "fb17f31e-1ccb-4444-fb88-72e314282e5e",
        "colab": {
          "base_uri": "https://localhost:8080/",
          "height": 295
        }
      },
      "source": [
        "ytestaccuracy_25 = w_b[\"accuracy_25\"]\n",
        "iter = w_b[\"iteration\"]\n",
        "plt.ylabel(\"Accuracy\")\n",
        "plt.xlabel(\"Iteration\")\n",
        "plt.title(\"Accuracy vs Iteration\")\n",
        "plt.plot(iter, ytestaccuracy_25, 'mo',linestyle='solid')\n",
        "plt.show()"
      ],
      "execution_count": 656,
      "outputs": [
        {
          "output_type": "display_data",
          "data": {
            "image/png": "[encoded data removed]",
            "text/plain": [
              "<Figure size 432x288 with 1 Axes>"
            ]
          },
          "metadata": {
            "tags": [],
            "needs_background": "light"
          }
        }
      ]
    },
    {
      "cell_type": "markdown",
      "metadata": {
        "id": "Nh4rZI0zij-3"
      },
      "source": [
        "**Question 3**"
      ]
    },
    {
      "cell_type": "markdown",
      "metadata": {
        "id": "RE1K-MoYRPOA"
      },
      "source": [
        "**Accuracy as a function of learning rate**"
      ]
    },
    {
      "cell_type": "code",
      "metadata": {
        "id": "Uieald4cROnO"
      },
      "source": [
        "def learnaccuracy(w1,w2,b1,b2):\n",
        "  alpha = np.sort(np.random.randint(1, 1000, size=10).astype(\"float\") / 1000)\n",
        "  ypred_alpha_10 = []\n",
        "  ypred_alpha_10_01 = []\n",
        "  accuracy_alpha_25 = []\n",
        "  for j in alpha:\n",
        "    for i in range(25):\n",
        "      dz2 = a2 - y\n",
        "      inter1 = np.reshape(np.mean(dz2, axis = 1),(1,1))\n",
        "      dw2 = np.dot(dz2, a1.T)\n",
        "      db2 = inter1\n",
        "      dz1 = np.array(np.dot(w2.T, dz2) * np.array((sigmoid(z1)), dtype=np.float128) * np.array((1 - sigmoid(z1)), dtype=np.float128), dtype=np.float128)\n",
        "      inter2 = np.reshape(np.mean(dz1, axis = 1),(3,1))\n",
        "      dw1 = np.dot(dz1, x)\n",
        "      db1 = inter2\n",
        "      w1 = w1 - j * dw1\n",
        "      b1 = b1 - j * db1\n",
        "      w2 = w2 - j * dw2\n",
        "      b2 = b2 - j * db2\n",
        "      newz1 = np.dot(w1 , x.T) + b1\n",
        "      newa1 = sigmoid(newz1)\n",
        "      newz2 = np.dot(w2 , newa1) + b2\n",
        "      newa2 = sigmoid(newz2)\n",
        "    z1_test = np.dot(w1 , x_test.T) + b1\n",
        "    a1_test = sigmoid(z1_test)\n",
        "    z2_test = np.dot(w2 , a1_test) + b2\n",
        "    a2_test = sigmoid(z2_test).flatten()\n",
        "    ypred_alpha_10.append(a2_test)\n",
        "    ypred = []\n",
        "    for i in a2_test:\n",
        "      if i >= 0.0005:\n",
        "        i = 1\n",
        "      else:\n",
        "        i = 0\n",
        "      ypred.append(i)\n",
        "    ypred_alpha_10_01.append(ypred)\n",
        "    true_count = 0\n",
        "    false_count = 0\n",
        "    for i in range(50):\n",
        "      if (ypred[i] == 1) & (y_test[i] == 1):\n",
        "        true_count = true_count +1\n",
        "      elif (ypred[i] == 0) & (y_test[i] == 0):\n",
        "        true_count = true_count +1\n",
        "      else:\n",
        "          false_count = false_count +1\n",
        "    accuracy = (true_count/(true_count+false_count))*100\n",
        "    accuracy_alpha_25.append(accuracy)\n",
        "  return dict([(\"alpha\", alpha),(\"accuracy_alpha_25\", accuracy_alpha_25)])"
      ],
      "execution_count": 657,
      "outputs": []
    },
    {
      "cell_type": "code",
      "metadata": {
        "id": "Y_T74C2DSYYt",
        "outputId": "4a6c9c8c-bada-4949-8894-fc011405ceb1",
        "colab": {
          "base_uri": "https://localhost:8080/",
          "height": 85
        }
      },
      "source": [
        "learning_accuracy = learnaccuracy(w1,w2,b1,b2)\n",
        "print(learning_accuracy)"
      ],
      "execution_count": 658,
      "outputs": [
        {
          "output_type": "stream",
          "text": [
            "{'alpha': array([0.05 , 0.196, 0.199, 0.343, 0.542, 0.6  , 0.662, 0.844, 0.904,\n",
            "       0.967]), 'accuracy_alpha_25': [56.00000000000001, 56.00000000000001, 96.0, 96.0, 96.0, 96.0, 96.0, 96.0, 96.0, 96.0]}\n"
          ],
          "name": "stdout"
        },
        {
          "output_type": "stream",
          "text": [
            "/usr/local/lib/python3.6/dist-packages/ipykernel_launcher.py:3: RuntimeWarning: overflow encountered in exp\n",
            "  This is separate from the ipykernel package so we can avoid doing imports until\n"
          ],
          "name": "stderr"
        }
      ]
    },
    {
      "cell_type": "code",
      "metadata": {
        "id": "Be8uB7rKcsV_",
        "outputId": "36e16947-1433-4e28-f83a-3e85dd335647",
        "colab": {
          "base_uri": "https://localhost:8080/",
          "height": 295
        }
      },
      "source": [
        "alpha_values = learning_accuracy[\"alpha\"]\n",
        "alpha_accuracy = learning_accuracy[\"accuracy_alpha_25\"]\n",
        "plt.ylabel(\"Accuracy\")\n",
        "plt.xlabel(\"Learning rate\")\n",
        "plt.title(\"Accuracy vs Learning rate\")\n",
        "plt.plot(alpha_values, alpha_accuracy, 'mo',linestyle='solid')\n",
        "plt.show()"
      ],
      "execution_count": 659,
      "outputs": [
        {
          "output_type": "display_data",
          "data": {
            "image/png": "[encoded data removed]",
            "text/plain": [
              "<Figure size 432x288 with 1 Axes>"
            ]
          },
          "metadata": {
            "tags": [],
            "needs_background": "light"
          }
        }
      ]
    },
    {
      "cell_type": "markdown",
      "metadata": {
        "id": "K5MfrZ0Hhrtw"
      },
      "source": [
        "**Question 4**"
      ]
    },
    {
      "cell_type": "code",
      "metadata": {
        "id": "VudojRyIx1F7"
      },
      "source": [
        "def neurons(x,y,x_test):\n",
        "  ypred_neurons_10 = []\n",
        "  ypred_neurons_10_01 = []\n",
        "  accuracy_neurons_10 = []\n",
        "  loss_neurons_10 = []\n",
        "  neuron = [1,2,3,4,5,6,7,8,9,10]\n",
        "  for j in neuron:\n",
        "    w1 = np.random.rand(j,2)\n",
        "    b1 = np.random.rand(j,1)\n",
        "    w2 = np.random.rand(1,j)\n",
        "    b2 = np.random.rand(1,1)\n",
        "    z1 = np.dot(w1 , x.T) + b1\n",
        "    a1 = sigmoid(z1)\n",
        "    z2 = np.dot(w2 , a1) + b2\n",
        "    a2 = sigmoid(z2)\n",
        "    for i in range(25):\n",
        "      dz2 = a2 - y\n",
        "      inter1 = np.reshape(np.mean(dz2, axis = 1),(1,1))\n",
        "      dw2 = np.dot(dz2, a1.T)\n",
        "      db2 = inter1\n",
        "      dz1 = np.array(np.dot(w2.T, dz2) * np.array((sigmoid(z1)), dtype=np.float128) * np.array((1 - sigmoid(z1)), dtype=np.float128), dtype=np.float128)\n",
        "      inter2 = np.reshape(np.mean(dz1, axis = 1),(j,1))\n",
        "      dw1 = np.dot(dz1, x)\n",
        "      db1 = inter2\n",
        "      w1 = w1 - 0.001 * dw1\n",
        "      b1 = b1 - 0.001 * db1\n",
        "      w2 = w2 - 0.001 * dw2\n",
        "      b2 = b2 - 0.001 * db2\n",
        "      newz1 = np.dot(w1 , x.T) + b1\n",
        "      newa1 = sigmoid(newz1)\n",
        "      newz2 = np.dot(w2 , newa1) + b2\n",
        "      newa2 = sigmoid(newz2)\n",
        "    z1_test = np.dot(w1 , x_test.T) + b1\n",
        "    a1_test = sigmoid(z1_test)\n",
        "    z2_test = np.dot(w2 , a1_test) + b2\n",
        "    a2_test = sigmoid(z2_test).flatten()\n",
        "    ypred_neurons_10.append(a2_test)\n",
        "    loss_neurons_10.append(-1 / 50 * (np.dot(y_test, np.log(a2_test).T) + np.dot(1 - y_test, np.log(1 - a2_test).T)))\n",
        "    ypred = []\n",
        "    for i in a2_test:\n",
        "      if i >= 0.75:\n",
        "        i = 1\n",
        "      else:\n",
        "        i = 0\n",
        "      ypred.append(i)\n",
        "    ypred_neurons_10_01.append(ypred)\n",
        "    true_count = 0\n",
        "    false_count = 0\n",
        "    for i in range(50):\n",
        "      if (ypred[i] == 1) & (y_test[i] == 1):\n",
        "        true_count = true_count +1\n",
        "      elif (ypred[i] == 0) & (y_test[i] == 0):\n",
        "        true_count = true_count +1\n",
        "      else:\n",
        "          false_count = false_count +1\n",
        "    accuracy = (true_count/(true_count+false_count))*100\n",
        "    accuracy_neurons_10.append(accuracy)\n",
        "  return dict([(\"neuron\", neuron),(\"accuracy_neurons_10\", accuracy_neurons_10),(\"log_loss_neurons_10\",loss_neurons_10)])"
      ],
      "execution_count": 660,
      "outputs": []
    },
    {
      "cell_type": "code",
      "metadata": {
        "id": "8JgT6htEwsky",
        "outputId": "d53f0b25-8bed-4f9e-c242-537f85189cb1",
        "colab": {
          "base_uri": "https://localhost:8080/",
          "height": 54
        }
      },
      "source": [
        "neurons_accuracy_loss = neurons(x,y,x_test)\n",
        "print(neurons_accuracy_loss)"
      ],
      "execution_count": 661,
      "outputs": [
        {
          "output_type": "stream",
          "text": [
            "{'neuron': [1, 2, 3, 4, 5, 6, 7, 8, 9, 10], 'accuracy_neurons_10': [44.0, 44.0, 76.0, 72.0, 44.0, 44.0, 44.0, 44.0, 44.0, 44.0], 'log_loss_neurons_10': [0.6988364346185766356, 0.63963827582823182266, 0.6687168049375886863, 0.643691773165690759, 0.72444105983427419627, 0.7508797095166730982, 0.6697198111721424473, 0.6662819185018301429, 0.70438147879951766046, 0.61614405248022416817]}\n"
          ],
          "name": "stdout"
        }
      ]
    },
    {
      "cell_type": "markdown",
      "metadata": {
        "id": "Ss5RzaWgE5KR"
      },
      "source": [
        "**Accuracy**"
      ]
    },
    {
      "cell_type": "code",
      "metadata": {
        "id": "s43qX8BYE3zW",
        "outputId": "a7697386-1c12-4f6f-c5e5-0c108ba79f81",
        "colab": {
          "base_uri": "https://localhost:8080/",
          "height": 312
        }
      },
      "source": [
        "neuron = neurons_accuracy_loss[\"neuron\"]\n",
        "accuracy_neurons_10 = neurons_accuracy_loss[\"accuracy_neurons_10\"]\n",
        "print(\"Accuracy\",str(accuracy_neurons_10))\n",
        "plt.ylabel(\"Accuracy\")\n",
        "plt.xlabel(\"# of neurons\")\n",
        "plt.title(\"Accuracy vs # of neurons\")\n",
        "plt.plot(neuron, accuracy_neurons_10, 'mo',linestyle='solid')\n",
        "plt.show()\n"
      ],
      "execution_count": 662,
      "outputs": [
        {
          "output_type": "stream",
          "text": [
            "Accuracy [44.0, 44.0, 76.0, 72.0, 44.0, 44.0, 44.0, 44.0, 44.0, 44.0]\n"
          ],
          "name": "stdout"
        },
        {
          "output_type": "display_data",
          "data": {
            "image/png": "[encoded data removed]",
            "text/plain": [
              "<Figure size 432x288 with 1 Axes>"
            ]
          },
          "metadata": {
            "tags": [],
            "needs_background": "light"
          }
        }
      ]
    },
    {
      "cell_type": "markdown",
      "metadata": {
        "id": "EwqCPT7nF40H"
      },
      "source": [
        "**Log loss**"
      ]
    },
    {
      "cell_type": "code",
      "metadata": {
        "id": "rP7dmi9JF4F3",
        "outputId": "79db8c57-49e9-4cca-839c-71c33454f788",
        "colab": {
          "base_uri": "https://localhost:8080/",
          "height": 332
        }
      },
      "source": [
        "neuron = neurons_accuracy_loss[\"neuron\"]\n",
        "log_loss_neurons_10 = neurons_accuracy_loss[\"log_loss_neurons_10\"]\n",
        "print(\"Log loss values\",str(log_loss_neurons_10))\n",
        "plt.ylabel(\"Log loss\")\n",
        "plt.xlabel(\"# of neurons\")\n",
        "plt.title(\"Accuracy vs Log loss\")\n",
        "plt.plot(neuron, log_loss_neurons_10, 'mo',linestyle='solid')\n",
        "plt.show()"
      ],
      "execution_count": 663,
      "outputs": [
        {
          "output_type": "stream",
          "text": [
            "Log loss values [0.6988364346185766356, 0.63963827582823182266, 0.6687168049375886863, 0.643691773165690759, 0.72444105983427419627, 0.7508797095166730982, 0.6697198111721424473, 0.6662819185018301429, 0.70438147879951766046, 0.61614405248022416817]\n"
          ],
          "name": "stdout"
        },
        {
          "output_type": "display_data",
          "data": {
            "image/png": "[encoded data removed]",
            "text/plain": [
              "<Figure size 432x288 with 1 Axes>"
            ]
          },
          "metadata": {
            "tags": [],
            "needs_background": "light"
          }
        }
      ]
    },
    {
      "cell_type": "markdown",
      "metadata": {
        "id": "D4jwpP5JK-s0"
      },
      "source": [
        "**Question 5**"
      ]
    },
    {
      "cell_type": "markdown",
      "metadata": {
        "id": "oB0zLpNOpxoT"
      },
      "source": [
        "**Linear function** "
      ]
    },
    {
      "cell_type": "code",
      "metadata": {
        "id": "jjCnQJUSLDn6"
      },
      "source": [
        "def backprop_linear(w1,w2,b1,b2):\n",
        "  iteration = []\n",
        "  y_test_25 = []\n",
        "  y_pred_25 = []\n",
        "  accuracy_25 = []\n",
        "  ytest_logloss_25 = []\n",
        "  for i in range(25):\n",
        "    dz2 =  np.divide(1 - y, 1 - a2) - np.divide(y, a2)\n",
        "    inter1 = np.reshape(np.mean(dz2, axis = 1),(1,1))\n",
        "    dw2 = np.dot(dz2, a1.T)\n",
        "    db2 = inter1\n",
        "    dz1 = np.dot(w2.T, dz2)\n",
        "    inter2 = np.reshape(np.mean(dz1, axis = 1),(3,1))\n",
        "    dw1 = np.dot(dz1, x)\n",
        "    db1 = inter2\n",
        "    w1 = w1 - 0.001 * dw1\n",
        "    b1 = b1 - 0.001 * db1\n",
        "    w2 = w2 - 0.001 * dw2\n",
        "    b2 = b2 - 0.001 * db2\n",
        "    newz1 = np.dot(w1 , x.T) + b1\n",
        "    newa1 = sigmoid(newz1)\n",
        "    newz2 = np.dot(w2 , newa1) + b2\n",
        "    newa2 = sigmoid(newz2)\n",
        "    z1_test = np.dot(w1 , x_test.T) + b1\n",
        "    a1_test = sigmoid(z1_test)\n",
        "    z2_test = np.dot(w2 , a1_test) + b2\n",
        "    a2_test = sigmoid(z2_test).flatten()\n",
        "    y_test_25.append(a2_test)\n",
        "    ytest_logloss_25.append(-1 / 50 * (np.dot(y_test, np.log(a2_test).T) + np.dot(1 - y_test, np.log(1 - a2_test).T)))\n",
        "    iteration.append(i+1)\n",
        "    ypred = []\n",
        "    for i in a2_test:\n",
        "      if i >= 0.65:\n",
        "        i = 1\n",
        "      else:\n",
        "        i = 0\n",
        "      ypred.append(i)\n",
        "    y_pred_25.append(ypred)\n",
        "    true_count = 0\n",
        "    false_count = 0\n",
        "    for i in range(50):\n",
        "      if (ypred[i] == 1) & (y_test[i] == 1):\n",
        "        true_count = true_count +1\n",
        "      elif (ypred[i] == 0) & (y_test[i] == 0):\n",
        "        true_count = true_count +1\n",
        "      else:\n",
        "        false_count = false_count +1\n",
        "    accuracy = (true_count/(true_count+false_count))*100\n",
        "    accuracy_25.append(accuracy)\n",
        "  return dict([(\"iteration\",iteration), (\"ytest_logloss_25\",ytest_logloss_25),(\"accuracy_25\",accuracy_25), (\"y_test_25\", y_test_25)])\n"
      ],
      "execution_count": 677,
      "outputs": []
    },
    {
      "cell_type": "code",
      "metadata": {
        "id": "0t5PnuL6NK49",
        "outputId": "cae9c427-374e-48a6-8431-fde856c5cbf0",
        "colab": {
          "base_uri": "https://localhost:8080/",
          "height": 204
        }
      },
      "source": [
        "output_linear = backprop_linear(w1,w2,b1,b2)\n",
        "y_predicted_linear_activation = output_linear[\"y_test_25\"][24]\n",
        "y_log_loss_linear_activation = output_linear[\"ytest_logloss_25\"][24]\n",
        "y_accuracy_linear_activation = output_linear[\"accuracy_25\"][24]\n",
        "print(y_predicted_linear_activation)\n",
        "print(y_log_loss_linear_activation)\n",
        "print(y_accuracy_linear_activation)"
      ],
      "execution_count": 678,
      "outputs": [
        {
          "output_type": "stream",
          "text": [
            "[0.53915435 0.71835469 0.53714285 0.7215996  0.53415667 0.53749355\n",
            " 0.69302888 0.53500333 0.72072543 0.53805728 0.72077494 0.55547501\n",
            " 0.5357911  0.60270221 0.69669407 0.58703526 0.72148427 0.59959565\n",
            " 0.56867983 0.72126062 0.53577521 0.53901843 0.723217   0.72294174\n",
            " 0.53693179 0.72222097 0.71808871 0.55911567 0.71820968 0.72042617\n",
            " 0.53867139 0.70918225 0.69393473 0.66984465 0.70909652 0.54332666\n",
            " 0.6310592  0.71904111 0.54505709 0.71108957 0.60166548 0.71081553\n",
            " 0.7201394  0.71226665 0.71275047 0.54518731 0.67507349 0.71444566\n",
            " 0.55937275 0.54528841]\n",
            "0.5539287875400498\n",
            "96.0\n"
          ],
          "name": "stdout"
        }
      ]
    },
    {
      "cell_type": "markdown",
      "metadata": {
        "id": "COT8OFeQp_BZ"
      },
      "source": [
        "**Tanh Function**"
      ]
    },
    {
      "cell_type": "code",
      "metadata": {
        "id": "sZeZnpOwp9ph"
      },
      "source": [
        "def backprop_tanh(w1,w2,b1,b2):\n",
        "  iteration = []\n",
        "  y_test_25 = []\n",
        "  y_pred_25 = []\n",
        "  accuracy_25 = []\n",
        "  ytest_logloss_25 = []\n",
        "  for i in range(25):\n",
        "    dz2 =  1 - a2 + y - np.divide(y, a2)\n",
        "    inter1 = np.reshape(np.mean(dz2, axis = 1),(1,1))\n",
        "    dw2 = np.dot(dz2, a1.T)\n",
        "    db2 = inter1\n",
        "    dz1 = np.dot(w2.T, dz2) * (1 + sigmoid(z1)) * (1 - sigmoid(z1))\n",
        "    inter2 = np.reshape(np.mean(dz1, axis = 1),(3,1))\n",
        "    dw1 = np.dot(dz1, x)\n",
        "    db1 = inter2\n",
        "    w1 = w1 - 0.001 * dw1\n",
        "    b1 = b1 - 0.001 * db1\n",
        "    w2 = w2 - 0.001 * dw2\n",
        "    b2 = b2 - 0.001 * db2\n",
        "    newz1 = np.dot(w1 , x.T) + b1\n",
        "    newa1 = sigmoid(newz1)\n",
        "    newz2 = np.dot(w2 , newa1) + b2\n",
        "    newa2 = sigmoid(newz2)\n",
        "    z1_test = np.dot(w1 , x_test.T) + b1\n",
        "    a1_test = sigmoid(z1_test)\n",
        "    z2_test = np.dot(w2 , a1_test) + b2\n",
        "    a2_test = sigmoid(z2_test).flatten()\n",
        "    y_test_25.append(a2_test)\n",
        "    ytest_logloss_25.append(-1 / 50 * (np.dot(y_test, np.log(a2_test).T) + np.dot(1 - y_test, np.log(1 - a2_test).T)))\n",
        "    iteration.append(i+1)\n",
        "    ypred = []\n",
        "    for i in a2_test:\n",
        "      if i >= 0.6:\n",
        "        i = 1\n",
        "      else:\n",
        "        i = 0\n",
        "      ypred.append(i)\n",
        "    y_pred_25.append(ypred)\n",
        "    true_count = 0\n",
        "    false_count = 0\n",
        "    for i in range(50):\n",
        "      if (ypred[i] == 1) & (y_test[i] == 1):\n",
        "        true_count = true_count +1\n",
        "      elif (ypred[i] == 0) & (y_test[i] == 0):\n",
        "        true_count = true_count +1\n",
        "      else:\n",
        "        false_count = false_count +1\n",
        "    accuracy = (true_count/(true_count+false_count))*100\n",
        "    accuracy_25.append(accuracy)\n",
        "  return dict([(\"iteration\",iteration), (\"ytest_logloss_25\",ytest_logloss_25),(\"accuracy_25\",accuracy_25), (\"y_test_25\", y_test_25)])"
      ],
      "execution_count": 689,
      "outputs": []
    },
    {
      "cell_type": "code",
      "metadata": {
        "id": "03Gyy7lNsbB0",
        "outputId": "19348185-a2e9-4b84-e7aa-d55603f635bb",
        "colab": {
          "base_uri": "https://localhost:8080/",
          "height": 204
        }
      },
      "source": [
        "output_tanh = backprop_tanh(w1,w2,b1,b2)\n",
        "y_predicted_tanh_activation = output_tanh[\"y_test_25\"][24]\n",
        "y_log_loss_tanh_activation = output_tanh[\"ytest_logloss_25\"][24]\n",
        "y_accuracy_tanh_activation = output_tanh[\"accuracy_25\"][24]\n",
        "print(y_predicted_tanh_activation)\n",
        "print(y_log_loss_tanh_activation)\n",
        "print(y_accuracy_tanh_activation)"
      ],
      "execution_count": 690,
      "outputs": [
        {
          "output_type": "stream",
          "text": [
            "[0.54761376 0.60451975 0.54738285 0.61044427 0.54006762 0.55109343\n",
            " 0.59374138 0.54075948 0.60408008 0.55115225 0.61261765 0.56571548\n",
            " 0.54241153 0.58166395 0.60008488 0.58036222 0.60717932 0.57955739\n",
            " 0.57296343 0.60615983 0.54527931 0.54873341 0.61328921 0.61444393\n",
            " 0.54675557 0.61291808 0.60147047 0.55811225 0.60107822 0.6043252\n",
            " 0.55336993 0.59234647 0.5996943  0.5809697  0.60273894 0.55529695\n",
            " 0.5743927  0.60931069 0.56113351 0.60124707 0.56109138 0.60146772\n",
            " 0.60281725 0.60373659 0.60635259 0.56091639 0.59419903 0.59844069\n",
            " 0.57086831 0.5598406 ]\n",
            "0.6448788260025762\n",
            "84.0\n"
          ],
          "name": "stdout"
        }
      ]
    }
  ]
}